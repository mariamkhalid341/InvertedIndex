{
 "cells": [
  {
   "cell_type": "markdown",
   "metadata": {},
   "source": [
    "# $Required Libraries$"
   ]
  },
  {
   "cell_type": "code",
   "execution_count": 2,
   "metadata": {},
   "outputs": [],
   "source": [
    "import nltk\n",
    "import pandas as pd\n",
    "import math\n",
    "from nltk.stem.porter import *\n",
    "import os \n",
    "import sys\n",
    "import re\n",
    "import string\n",
    "import nltk\n",
    "nltk.download('stopwords')"
   ]
  },
  {
   "cell_type": "markdown",
   "metadata": {},
   "source": [
    "## $Reading Data$"
   ]
  },
  {
   "cell_type": "markdown",
   "metadata": {},
   "source": [
    "## $DictionaryOfLinks$"
   ]
  },
  {
   "cell_type": "code",
   "execution_count": 3,
   "metadata": {},
   "outputs": [],
   "source": [
    "dictionary_of_links = {'mark-graham': ('https://www.oii.ox.ac.uk/people/mark-graham/?profile','Data Science','OII-University of Oxford'), \n",
    "                      'bernie-hogan': ('https://www.oii.ox.ac.uk/people/bernie-hogan/?profile','Data Science','OII-University of Oxford'),\n",
    "                       'brent-mittelstadt' : ('https://www.oii.ox.ac.uk/people/brent-mittelstadt/?profile','Data Science','OII-University of Oxford'),\n",
    "                       'gina-neff' : ('https://www.oii.ox.ac.uk/people/gina-neff/?profile','Data Science','OII-University of Oxford'), \n",
    "                       'ralph-schroeder' : ('https://www.oii.ox.ac.uk/people/ralph-schroeder/?profile','Data Science','OII-University of Oxford'), \n",
    "                       'mariarosaria-taddeo' : ('https://www.oii.ox.ac.uk/people/mariarosaria-taddeo/?profile','Data Science','OII-University of Oxford'),\n",
    "                       'sandra-wachter' : ('https://www.oii.ox.ac.uk/people/sandra-wachter/?profile','Data Science','OII-University of Oxford'),\n",
    "                       'vasile-palade' : ('https://pureportal.coventry.ac.uk/en/persons/vasile-palade','Data Science','Coventry University'),\n",
    "                       'alireza-daneshkhah' : ('https://pureportal.coventry.ac.uk/en/persons/alireza-daneshkhah','Data Science','Coventry University'),\n",
    "                       'nader-sohrabi-safa' : ('https://pureportal.coventry.ac.uk/en/persons/nader-sohrabi-safa','Data Science','Coventry University'),\n",
    "                       'james-brusey' : ('https://pureportal.coventry.ac.uk/en/persons/james-brusey','Data Science','Coventry University'),\n",
    "                       'ye-liu' : ('https://pureportal.coventry.ac.uk/en/persons/ye-liu','Data Science','Coventry University'),\n",
    "                       'elena-gaura' : ('https://pureportal.coventry.ac.uk/en/persons/elena-gaura','Data Science','Coventry University'),\n",
    "                       'dr-hager-weslati' : ('https://www.kingston.ac.uk/staff/profile/dr-hager-weslati-662/','Arts','Kingston University'),\n",
    "                       'professor-john-oacute-maoilearca' : ('https://www.kingston.ac.uk/staff/profile/professor-john-oacute-maoilearca-124/','Arts','Kingston University'),\n",
    "                       'dr-matthew-melia' : ('https://www.kingston.ac.uk/staff/profile/dr-matthew-melia-648/''Arts','Kingston University'),\n",
    "                       'dr-mariacutea-menciacutea' : ('https://www.kingston.ac.uk/staff/profile/dr-mariacutea-menciacutea-629/','Arts','Kingston University'),\n",
    "                       'dr-landeacute-pratt' : ('https://www.kingston.ac.uk/staff/profile/dr-landeacute-pratt-598/','Arts','Kingston University'),\n",
    "                       'dr-reza-zanjirani-farahani' : ('https://www.kingston.ac.uk/staff/profile/dr-reza-zanjirani-farahani-341/','Business','Kingston University'),\n",
    "                       'dr-george-alexandrou' : ('https://www.kingston.ac.uk/staff/profile/dr-george-alexandrou-432/','Business','Kingston University'),\n",
    "                       'dr-rahul-chawdhary' : ('https://www.kingston.ac.uk/staff/profile/dr-rahul-chawdhary-146/','Business','Kingston University'),\n",
    "                       'dr-john-sebastian-pereira' : ('https://www.kingston.ac.uk/staff/profile/dr-john-sebastian-pereira-356/','Business','Kingston University'),\n",
    "                       'dr-pauline-parker' : ('https://www.kingston.ac.uk/staff/profile/dr-pauline-parker-932/','Business','Kingston University'),\n",
    "                       'dr-fatima-annan-diab' : ('https://www.kingston.ac.uk/staff/profile/dr-fatima-annan-diab-381/','Business','Kingston University'),\n",
    "                       'dr-barry-avery' : ('https://www.kingston.ac.uk/staff/profile/dr-barry-avery-147/','Business','Kingston University'),\n",
    "                       'dr-marvyn-boatswain' : ('https://www.kingston.ac.uk/staff/profile/dr-marvyn-boatswain-126/','Business','Kingston University')\n",
    "                      }"
   ]
  },
  {
   "cell_type": "code",
   "execution_count": 4,
   "metadata": {},
   "outputs": [],
   "source": [
    "# Reading text files having each supervisor's textual information (biography, research, information etc.)\n",
    "\n",
    "def ReadingSupervisorsDocuments():\n",
    "    \n",
    "    #creating a list with supervisor name and respective textual information \n",
    "    list_of_data = []\n",
    "    \n",
    "    #reading files\n",
    "    for file in os.listdir('supervisors/'):\n",
    "        \n",
    "        prof_text = open(os.path.join('supervisors/', file), 'r').read() # joining path of dir with file name to read text\n",
    "        prof_text = prof_text.replace('\\n',' ')\n",
    "        prof_name =  file.split('.')[0]\n",
    "        \n",
    "        list_of_data.append((prof_name,dictionary_of_links[prof_name][0],prof_text))  #list with name, link and textual data\n",
    "        \n",
    "    return list_of_data  #returning list of tuples (name,link,data)"
   ]
  },
  {
   "cell_type": "markdown",
   "metadata": {},
   "source": [
    "## $RemovingPunctuations$"
   ]
  },
  {
   "cell_type": "code",
   "execution_count": 5,
   "metadata": {},
   "outputs": [],
   "source": [
    "# Function to remove punctuations from the text and extact only textual information from the prof_text\n",
    "\n",
    "def CleanData(text):\n",
    "    \n",
    "    # using the string.punctuations excluding punctuations\n",
    "    clean_text = text.translate(str.maketrans('', '', string.punctuation))\n",
    "    clean_text = re.sub(r'[^A-Za-z\\s]+', '', clean_text)  # Getting only textual information for the \n",
    "                                                          # safe side used the regular expression as wel\n",
    "    clean_text = clean_text.lower()  # normalizing the text\n",
    "    return clean_text"
   ]
  },
  {
   "cell_type": "markdown",
   "metadata": {},
   "source": [
    "## $Stemming$"
   ]
  },
  {
   "cell_type": "code",
   "execution_count": 6,
   "metadata": {},
   "outputs": [],
   "source": [
    "# Function to do stemming on each professor's text, playing\n",
    "\n",
    "def StemmingText(list_of_tokens):\n",
    "    \n",
    "    #using the PorterStemmer, we will achive the stemming part\n",
    "    s = PorterStemmer()\n",
    "    \n",
    "    # using the list comprehension to create and return the stemmed list of tokens\n",
    "    words_after_stemming = [s.stem(token) for token in list_of_tokens]\n",
    "    return words_after_stemming"
   ]
  },
  {
   "cell_type": "markdown",
   "metadata": {},
   "source": [
    "## $Tokenization$"
   ]
  },
  {
   "cell_type": "code",
   "execution_count": 7,
   "metadata": {},
   "outputs": [],
   "source": [
    "# Function to tokenize the data\n",
    "\n",
    "def TokenizeProfessorsText(text):\n",
    "    \n",
    "    #splitting to get the list of tokens\n",
    "    list_of_tokens = text.split()\n",
    "    return list_of_tokens"
   ]
  },
  {
   "cell_type": "markdown",
   "metadata": {},
   "source": [
    "## $StopWordsRemoval$"
   ]
  },
  {
   "cell_type": "code",
   "execution_count": 14,
   "metadata": {},
   "outputs": [],
   "source": [
    "# Function to remove stop words from each professor's text\n",
    "\n",
    "def RemoveStopWords(list_of_tokens):\n",
    "    \n",
    "    # Getting stop words using nltk library (english version) and excluding from our text\n",
    "    with open(r'C:/Users/faisal.maqbool/AppData/Roaming/nltk_data/corpora/stopwords/english') as stopFile:\n",
    "        stop_words = [line.rstrip('\\n') for line in stopFile]\n",
    "    list_without_sw = []\n",
    "    for word in list_of_tokens:\n",
    "        if word.lower() not in stop_words:  # checking if word present in stopwords from nltk\n",
    "            list_without_sw.append(word)  # appending only valueable tokens\n",
    "            \n",
    "    return (list_without_sw)"
   ]
  },
  {
   "cell_type": "markdown",
   "metadata": {},
   "source": [
    "## $CreatingDictionaryOfTokens$"
   ]
  },
  {
   "cell_type": "code",
   "execution_count": 9,
   "metadata": {},
   "outputs": [],
   "source": [
    "# Function to create a dictionary of tokens from each professor's text\n",
    "\n",
    "def CreatingDictionaryOfTokens(list_of_data):\n",
    "    dict_of_tokens = {}\n",
    "    all_words = set()\n",
    "    for each_tuple in list_of_data:\n",
    "        \n",
    "        clean_text = CleanData(each_tuple[2])  #Cleaning\n",
    "        list_of_tokens = TokenizeProfessorsText(clean_text) # Tokenizing the text\n",
    "        list_of_tokens = RemoveStopWords(list_of_tokens)\n",
    "        #list_of_tokens = StemmingText(list_of_tokens)  # Getting the stemmed list of tokens\n",
    "        \n",
    "        dict_of_tokens[each_tuple[0]] = list_of_tokens\n",
    "        all_words |= set(list_of_tokens)\n",
    "        \n",
    "    return dict_of_tokens, all_words"
   ]
  },
  {
   "cell_type": "markdown",
   "metadata": {},
   "source": [
    "# $Generate VocabularyForTFidf$"
   ]
  },
  {
   "cell_type": "code",
   "execution_count": 10,
   "metadata": {},
   "outputs": [],
   "source": [
    "# Function to get the vocabulary of the tokens\n",
    "\n",
    "def VocabularyCreation(dictOfTokens):\n",
    "    \n",
    "    vocabulary = []\n",
    "        \n",
    "    return sum(list(dictOfTokens.values()),[])"
   ]
  },
  {
   "cell_type": "markdown",
   "metadata": {},
   "source": [
    "# $Full-Inverted-Index$"
   ]
  },
  {
   "cell_type": "code",
   "execution_count": 11,
   "metadata": {},
   "outputs": [],
   "source": [
    "def CreateFullInvertedIndex(dictOfTokens):\n",
    "    # Creating full inverted index\n",
    "\n",
    "    full_inverted_index = {word:set((prof_name,word_count) for prof_name,list_of_tokens in dictOfTokens.items() for word_count in (index for index, wordInUse in enumerate(list_of_tokens) if word == wordInUse) if word in list_of_tokens) for word in vocabulary}\n",
    "    \n",
    "    return full_inverted_index"
   ]
  },
  {
   "cell_type": "markdown",
   "metadata": {},
   "source": [
    "# $Reading Documents$"
   ]
  },
  {
   "cell_type": "code",
   "execution_count": 12,
   "metadata": {},
   "outputs": [],
   "source": [
    "documents_information = ReadingSupervisorsDocuments()"
   ]
  },
  {
   "cell_type": "markdown",
   "metadata": {},
   "source": [
    "##### $Creating-Dictionary-of-Tokens$"
   ]
  },
  {
   "cell_type": "code",
   "execution_count": 15,
   "metadata": {},
   "outputs": [],
   "source": [
    "dictOfTokens, all_words = CreatingDictionaryOfTokens(documents_information)"
   ]
  },
  {
   "cell_type": "markdown",
   "metadata": {},
   "source": [
    "##### $Vocabulary-Generation$"
   ]
  },
  {
   "cell_type": "code",
   "execution_count": 16,
   "metadata": {},
   "outputs": [],
   "source": [
    "vocabulary = VocabularyCreation(dictOfTokens)"
   ]
  },
  {
   "cell_type": "markdown",
   "metadata": {},
   "source": [
    "# $Creating-Full-Inverted-Index$"
   ]
  },
  {
   "cell_type": "code",
   "execution_count": null,
   "metadata": {},
   "outputs": [],
   "source": [
    "full_inverted_index = CreateFullInvertedIndex(dictOfTokens)"
   ]
  },
  {
   "cell_type": "code",
   "execution_count": 79,
   "metadata": {},
   "outputs": [
    {
     "data": {
      "text/plain": [
       "{('bernie-hogan', 314),\n",
       " ('brent-mittelstadt', 12),\n",
       " ('brent-mittelstadt', 139),\n",
       " ('dr-matthew-melia', 364),\n",
       " ('dr-reza-zanjirani-farahani', 100),\n",
       " ('dr-reza-zanjirani-farahani', 241),\n",
       " ('dr-reza-zanjirani-farahani', 382),\n",
       " ('dr-reza-zanjirani-farahani', 523),\n",
       " ('gina-neff', 9),\n",
       " ('gina-neff', 15),\n",
       " ('mariarosaria-taddeo', 6),\n",
       " ('mark-graham', 4),\n",
       " ('mark-graham', 254),\n",
       " ('mark-graham', 380),\n",
       " ('mark-graham', 415),\n",
       " ('mark-graham', 435),\n",
       " ('mark-graham', 494),\n",
       " ('mark-graham', 495),\n",
       " ('mark-graham', 1269),\n",
       " ('mark-graham', 1519),\n",
       " ('mark-graham', 1698),\n",
       " ('mark-graham', 1757),\n",
       " ('mark-graham', 1758),\n",
       " ('professor-john-oacute-maoilearca', 941),\n",
       " ('professor-john-oacute-maoilearca', 943),\n",
       " ('ralph-schroeder', 33),\n",
       " ('ralph-schroeder', 375),\n",
       " ('ralph-schroeder', 425),\n",
       " ('sandra-wachter', 18),\n",
       " ('sandra-wachter', 22),\n",
       " ('sandra-wachter', 140),\n",
       " ('vasile-palade', 27),\n",
       " ('ye-liu', 55)}"
      ]
     },
     "execution_count": 79,
     "metadata": {},
     "output_type": "execute_result"
    }
   ],
   "source": [
    "full_inverted_index['oxford']"
   ]
  },
  {
   "cell_type": "markdown",
   "metadata": {},
   "source": [
    "# $Term-Frequency$"
   ]
  },
  {
   "cell_type": "code",
   "execution_count": 18,
   "metadata": {},
   "outputs": [],
   "source": [
    "def TermFrequency(list_of_words):\n",
    "    \n",
    "    # Setting a dictionary for term frequency of each \n",
    "    term_frequency = {}\n",
    "    \n",
    "    for word in list_of_words:\n",
    "        \n",
    "        term_frequency[word] = list_of_words.count(word)\n",
    "        \n",
    "    return term_frequency"
   ]
  },
  {
   "cell_type": "markdown",
   "metadata": {},
   "source": [
    "# $Inverted-Index-And-Idf Scores$"
   ]
  },
  {
   "cell_type": "code",
   "execution_count": 19,
   "metadata": {},
   "outputs": [],
   "source": [
    "def CreateInvertedIndexAndIdfScores(dictOfTokens):\n",
    "    \n",
    "    #create list for vocabulary for tf - idf score extraction\n",
    "    \n",
    "    vocabulary = VocabularyCreation(dictOfTokens)\n",
    "    \n",
    "    inverted_index = {}\n",
    "    \n",
    "    score_idf = {}\n",
    "    \n",
    "    #setting total number of documents\n",
    "    number_of_documents = len(dictOfTokens)\n",
    "    \n",
    "    for word in vocabulary:\n",
    "        \n",
    "        #creating a count for calculating the tf score\n",
    "        word_count = 0\n",
    "        for professor_name, list_of_words in dictOfTokens.items():  # Getting tokens from created dict of tokens\n",
    "            \n",
    "            if word in list_of_words :  # checking if the vocabulary word is present in prof's list of tokens\n",
    "                word_count = word_count + 1 \n",
    "                \n",
    "                if word in inverted_index.keys():   # checking if the word already exist and a document, then append the next \n",
    "                                                    # professor name\n",
    "                    \n",
    "                    inverted_index[word].append(professor_name)\n",
    "                    \n",
    "                else:\n",
    "                    inverted_index[word] = [professor_name]     # else only append the one prof_name\n",
    "            \n",
    "        #calculating the idf score - word level\n",
    "          \n",
    "        score_idf[word] = math.log10(number_of_documents / word_count)    #inverse doc frequency  = No of docs / tf_for word\n",
    "          \n",
    "    return inverted_index, score_idf"
   ]
  },
  {
   "cell_type": "code",
   "execution_count": 20,
   "metadata": {},
   "outputs": [],
   "source": [
    "inverted_index, idf_scores = CreateInvertedIndexAndIdfScores(dictOfTokens)"
   ]
  },
  {
   "cell_type": "markdown",
   "metadata": {},
   "source": [
    "# $Calculating-Tfidf Scores$"
   ]
  },
  {
   "cell_type": "code",
   "execution_count": 21,
   "metadata": {},
   "outputs": [],
   "source": [
    "def CalculateTfidfScores(dictOfTokens,score_idf):\n",
    "    \n",
    "    tf_idf_score = {}\n",
    "    \n",
    "    for key,value in dictOfTokens.items():   #traversing our list of tuple, containing prof name, link and text\n",
    "        \n",
    "        tf_idf_score[key] = TermFrequency(value)    # First story the term frequency score against each key (word)\n",
    "        \n",
    "    for prof_name,tf_scores in tf_idf_score.items():  # Traversing the newly created tf_idf_score dictionary\n",
    "        \n",
    "        for word, score in tf_scores.items():         # Traversing the internally each, word and its respective score\n",
    "            \n",
    "            term_frequency = score                    # Setting the score\n",
    "             \n",
    "            inverse_doc_frequency = score_idf[word]   # Extracting the idf score from our idf_scores dictionary for word\n",
    "            \n",
    "            tf_scores[word] = term_frequency * inverse_doc_frequency   # storing the tf-idf score in the same \n",
    "                                                                        # manner Word : tf-idf instead of word : tf\n",
    "            \n",
    "    return tf_idf_score                               # returning the tf_idf_score dictionary"
   ]
  },
  {
   "cell_type": "code",
   "execution_count": 22,
   "metadata": {},
   "outputs": [],
   "source": [
    "tfidfscores = CalculateTfidfScores(dictOfTokens,idf_scores)"
   ]
  },
  {
   "cell_type": "markdown",
   "metadata": {},
   "source": [
    "# $Basic Search$"
   ]
  },
  {
   "cell_type": "code",
   "execution_count": 23,
   "metadata": {},
   "outputs": [],
   "source": [
    "from pprint import pprint as pp\n",
    "from functools import reduce"
   ]
  },
  {
   "cell_type": "code",
   "execution_count": 24,
   "metadata": {},
   "outputs": [],
   "source": [
    "def FindQueryWordsInInvertedIndex(list_of_queryWords):\n",
    "    # for each output from inverted index against a word, we are reducing the intersection and passing our dictionary of tokens\n",
    "    \n",
    "    return reduce(set.intersection,(inverted_index[queryWord] for queryWord in list_of_queryWords),set(dictOfTokens.keys()))"
   ]
  },
  {
   "cell_type": "markdown",
   "metadata": {},
   "source": [
    "## $Getting-User-Input$"
   ]
  },
  {
   "cell_type": "code",
   "execution_count": 25,
   "metadata": {},
   "outputs": [
    {
     "name": "stdout",
     "output_type": "stream",
     "text": [
      "Search Supervisor: data science\n"
     ]
    }
   ],
   "source": [
    "query_search_tokens = input('Search Supervisor: ').lower().split()  # Getting user input, \n",
    "                                                                    #normalizing and creating list of tokens"
   ]
  },
  {
   "cell_type": "code",
   "execution_count": 26,
   "metadata": {},
   "outputs": [
    {
     "name": "stdout",
     "output_type": "stream",
     "text": [
      "{'alireza-daneshkhah',\n",
      " 'bernie-hogan',\n",
      " 'dr-marvyn-boatswain',\n",
      " 'elena-gaura',\n",
      " 'gina-neff',\n",
      " 'james-brusey',\n",
      " 'mariarosaria-taddeo',\n",
      " 'nader-sohrabi-safa',\n",
      " 'ralph-schroeder',\n",
      " 'sandra-wachter',\n",
      " 'vasile-palade'}\n"
     ]
    }
   ],
   "source": [
    "pp(FindQueryWordsInInvertedIndex(query_search_tokens))"
   ]
  },
  {
   "cell_type": "markdown",
   "metadata": {},
   "source": [
    "# $Ranking$"
   ]
  },
  {
   "cell_type": "code",
   "execution_count": 27,
   "metadata": {},
   "outputs": [],
   "source": [
    "query_dic = {1 : query_search_tokens}"
   ]
  },
  {
   "cell_type": "code",
   "execution_count": 28,
   "metadata": {},
   "outputs": [],
   "source": [
    "query_scores = CalculateTfidfScores(query_dic,idf_scores)"
   ]
  },
  {
   "cell_type": "code",
   "execution_count": 29,
   "metadata": {},
   "outputs": [],
   "source": [
    "import operator"
   ]
  },
  {
   "cell_type": "code",
   "execution_count": 30,
   "metadata": {},
   "outputs": [],
   "source": [
    "for key, list_of_query_words in query_dic.items():\n",
    "    # traversing the query words and one by one calculating the cosine similarity aginst each document it appears in\n",
    "    \n",
    "    # initializing a dic for professor similarity\n",
    "    prof_sum = {}\n",
    "    \n",
    "    for queryWord in list_of_query_words:                    # traversing the list of words from query\n",
    "        if queryWord in inverted_index.keys():  # checking if that word appears in inverted index\n",
    "            \n",
    "            professors = inverted_index[queryWord]   # getting professors from inverted index against each query word\n",
    "\n",
    "            for prof in professors:                  # Traversing each professor it appears in \n",
    "\n",
    "                prof_score = tfidfscores[prof][queryWord]   # calculating the tfidf score against each professor\n",
    "\n",
    "                prof_length = math.sqrt(sum(x ** 2 for x in tfidfscores[prof].values()))  # Normalizing the professor doc length\n",
    "\n",
    "                query_score = query_scores[key][queryWord]  # same step done for query \n",
    "\n",
    "                query_length = math.sqrt(query_score ** 2)  # Normalizing the query score\n",
    "\n",
    "                similarity = (prof_score * query_score) / (prof_length * query_length)   # Calculating the cosine similarity\n",
    "\n",
    "                if prof in prof_sum.keys():               # finding if already professor available in similarity dic \n",
    "\n",
    "                    prof_sum[prof] = prof_sum[prof] + similarity   # add similarity for new coming word \n",
    "\n",
    "                else:\n",
    "                    prof_sum[prof] = similarity          # if not, then add the similarity for first time\n",
    "        else:\n",
    "            print(\"The \"+queryWord + \" is not available in the inverted index.\")   \n",
    "\n",
    "    ranked_professors = sorted(prof_sum.items(), key=operator.itemgetter(1), reverse = True) # Sorting against Ranking"
   ]
  },
  {
   "cell_type": "markdown",
   "metadata": {},
   "source": [
    "# $Search-Engine-Result$"
   ]
  },
  {
   "cell_type": "code",
   "execution_count": 32,
   "metadata": {
    "scrolled": false
   },
   "outputs": [
    {
     "name": "stdout",
     "output_type": "stream",
     "text": [
      "Relevant supervisors available against your query in UK are :\n",
      "----------------------------------------------------------------\n",
      "----------------------------------------------------------------\n",
      "\n",
      "1\n",
      "Name: Brent-Mittelstadt\n",
      "\n",
      "University: OII-University of Oxford\n",
      "\n",
      "Profile Link: https://www.oii.ox.ac.uk/people/brent-mittelstadt/?profile\n",
      "\n",
      "Department: Data Science\n",
      "\n",
      "tf-idf Score: 9.994601148099505\n",
      "\n",
      "-----------------------------------------------------\n",
      "-----------------------------------------------------\n",
      "2\n",
      "Name: Gina-Neff\n",
      "\n",
      "University: OII-University of Oxford\n",
      "\n",
      "Profile Link: https://www.oii.ox.ac.uk/people/gina-neff/?profile\n",
      "\n",
      "Department: Data Science\n",
      "\n",
      "tf-idf Score: 8.026371639393075\n",
      "\n",
      "-----------------------------------------------------\n",
      "-----------------------------------------------------\n",
      "3\n",
      "Name: Alireza-Daneshkhah\n",
      "\n",
      "University: Coventry University\n",
      "\n",
      "Profile Link: https://pureportal.coventry.ac.uk/en/persons/alireza-daneshkhah\n",
      "\n",
      "Department: Data Science\n",
      "\n",
      "tf-idf Score: 7.116543037270774\n",
      "\n",
      "-----------------------------------------------------\n",
      "-----------------------------------------------------\n",
      "4\n",
      "Name: Ralph-Schroeder\n",
      "\n",
      "University: OII-University of Oxford\n",
      "\n",
      "Profile Link: https://www.oii.ox.ac.uk/people/ralph-schroeder/?profile\n",
      "\n",
      "Department: Data Science\n",
      "\n",
      "tf-idf Score: 6.886718478935268\n",
      "\n",
      "-----------------------------------------------------\n",
      "-----------------------------------------------------\n",
      "5\n",
      "Name: Sandra-Wachter\n",
      "\n",
      "University: OII-University of Oxford\n",
      "\n",
      "Profile Link: https://www.oii.ox.ac.uk/people/sandra-wachter/?profile\n",
      "\n",
      "Department: Data Science\n",
      "\n",
      "tf-idf Score: 4.6327216234416\n",
      "\n",
      "-----------------------------------------------------\n",
      "-----------------------------------------------------\n",
      "6\n",
      "Name: Vasile-Palade\n",
      "\n",
      "University: Coventry University\n",
      "\n",
      "Profile Link: https://pureportal.coventry.ac.uk/en/persons/vasile-palade\n",
      "\n",
      "Department: Data Science\n",
      "\n",
      "tf-idf Score: 4.338513331076667\n",
      "\n",
      "-----------------------------------------------------\n",
      "-----------------------------------------------------\n",
      "7\n",
      "Name: Bernie-Hogan\n",
      "\n",
      "University: OII-University of Oxford\n",
      "\n",
      "Profile Link: https://www.oii.ox.ac.uk/people/bernie-hogan/?profile\n",
      "\n",
      "Department: Data Science\n",
      "\n",
      "tf-idf Score: 3.9975328248724504\n",
      "\n",
      "-----------------------------------------------------\n",
      "-----------------------------------------------------\n",
      "8\n",
      "Name: Mark-Graham\n",
      "\n",
      "University: OII-University of Oxford\n",
      "\n",
      "Profile Link: https://www.oii.ox.ac.uk/people/mark-graham/?profile\n",
      "\n",
      "Department: Data Science\n",
      "\n",
      "tf-idf Score: 3.695261203509037\n",
      "\n",
      "-----------------------------------------------------\n",
      "-----------------------------------------------------\n",
      "9\n",
      "Name: James-Brusey\n",
      "\n",
      "University: Coventry University\n",
      "\n",
      "Profile Link: https://pureportal.coventry.ac.uk/en/persons/james-brusey\n",
      "\n",
      "Department: Data Science\n",
      "\n",
      "tf-idf Score: 3.296357757788301\n",
      "\n",
      "-----------------------------------------------------\n",
      "-----------------------------------------------------\n",
      "10\n",
      "Name: Mariarosaria-Taddeo\n",
      "\n",
      "University: OII-University of Oxford\n",
      "\n",
      "Profile Link: https://www.oii.ox.ac.uk/people/mariarosaria-taddeo/?profile\n",
      "\n",
      "Department: Data Science\n",
      "\n",
      "tf-idf Score: 2.1952817772541087\n",
      "\n",
      "-----------------------------------------------------\n",
      "-----------------------------------------------------\n",
      "11\n",
      "Name: Dr-Marvyn-Boatswain\n",
      "\n",
      "University: Kingston University\n",
      "\n",
      "Profile Link: https://www.kingston.ac.uk/staff/profile/dr-marvyn-boatswain-126/\n",
      "\n",
      "Department: Business\n",
      "\n",
      "tf-idf Score: 2.0393327732404694\n",
      "\n",
      "-----------------------------------------------------\n",
      "-----------------------------------------------------\n",
      "12\n",
      "Name: Elena-Gaura\n",
      "\n",
      "University: Coventry University\n",
      "\n",
      "Profile Link: https://pureportal.coventry.ac.uk/en/persons/elena-gaura\n",
      "\n",
      "Department: Data Science\n",
      "\n",
      "tf-idf Score: 1.5319892819486682\n",
      "\n",
      "-----------------------------------------------------\n",
      "-----------------------------------------------------\n",
      "13\n",
      "Name: Ye-Liu\n",
      "\n",
      "University: Coventry University\n",
      "\n",
      "Profile Link: https://pureportal.coventry.ac.uk/en/persons/ye-liu\n",
      "\n",
      "Department: Data Science\n",
      "\n",
      "tf-idf Score: 1.5059350588472984\n",
      "\n",
      "-----------------------------------------------------\n",
      "-----------------------------------------------------\n",
      "14\n",
      "Name: Nader-Sohrabi-Safa\n",
      "\n",
      "University: Coventry University\n",
      "\n",
      "Profile Link: https://pureportal.coventry.ac.uk/en/persons/nader-sohrabi-safa\n",
      "\n",
      "Department: Data Science\n",
      "\n",
      "tf-idf Score: 1.372724824019593\n",
      "\n",
      "-----------------------------------------------------\n",
      "-----------------------------------------------------\n",
      "15\n",
      "Name: Dr-Mariacutea-Menciacutea\n",
      "\n",
      "University: Kingston University\n",
      "\n",
      "Profile Link: https://www.kingston.ac.uk/staff/profile/dr-mariacutea-menciacutea-629/\n",
      "\n",
      "Department: Arts\n",
      "\n",
      "tf-idf Score: 0.9306502443451371\n",
      "\n",
      "-----------------------------------------------------\n",
      "-----------------------------------------------------\n",
      "16\n",
      "Name: Dr-Reza-Zanjirani-Farahani\n",
      "\n",
      "University: Kingston University\n",
      "\n",
      "Profile Link: https://www.kingston.ac.uk/staff/profile/dr-reza-zanjirani-farahani-341/\n",
      "\n",
      "Department: Business\n",
      "\n",
      "tf-idf Score: 0.3669461055235049\n",
      "\n",
      "-----------------------------------------------------\n",
      "-----------------------------------------------------\n",
      "17\n",
      "Name: Dr-Rahul-Chawdhary\n",
      "\n",
      "University: Kingston University\n",
      "\n",
      "Profile Link: https://www.kingston.ac.uk/staff/profile/dr-rahul-chawdhary-146/\n",
      "\n",
      "Department: Business\n",
      "\n",
      "tf-idf Score: 0.33942666837809615\n",
      "\n",
      "-----------------------------------------------------\n",
      "-----------------------------------------------------\n",
      "18\n",
      "Name: Dr-Barry-Avery\n",
      "\n",
      "University: Kingston University\n",
      "\n",
      "Profile Link: https://www.kingston.ac.uk/staff/profile/dr-barry-avery-147/\n",
      "\n",
      "Department: Business\n",
      "\n",
      "tf-idf Score: 0.2715916577089074\n",
      "\n",
      "-----------------------------------------------------\n",
      "-----------------------------------------------------\n"
     ]
    }
   ],
   "source": [
    "print('Relevant supervisors available against your query in UK are :')\n",
    "print('----------------------------------------------------------------')\n",
    "print('----------------------------------------------------------------\\n')\n",
    "\n",
    "for index, prof in enumerate(ranked_professors):\n",
    "    print(index + 1)\n",
    "    print('Name: '+ prof[0].title() + '\\n')\n",
    "    print('University: '+ dictionary_of_links[prof[0]][2] + '\\n')\n",
    "    print('Profile Link: '+ dictionary_of_links[prof[0]][0] + '\\n')\n",
    "    print('Department: ' + dictionary_of_links[prof[0]][1] + '\\n')\n",
    "    print('tf-idf Score: ' + str(prof[1]) + '\\n')\n",
    "    print('-----------------------------------------------------')\n",
    "    print('-----------------------------------------------------')"
   ]
  },
  {
   "cell_type": "code",
   "execution_count": null,
   "metadata": {},
   "outputs": [],
   "source": []
  }
 ],
 "metadata": {
  "kernelspec": {
   "display_name": "Python 3",
   "language": "python",
   "name": "python3"
  },
  "language_info": {
   "codemirror_mode": {
    "name": "ipython",
    "version": 3
   },
   "file_extension": ".py",
   "mimetype": "text/x-python",
   "name": "python",
   "nbconvert_exporter": "python",
   "pygments_lexer": "ipython3",
   "version": "3.7.1"
  }
 },
 "nbformat": 4,
 "nbformat_minor": 2
}
